{
  "nbformat": 4,
  "nbformat_minor": 0,
  "metadata": {
    "colab": {
      "provenance": []
    },
    "kernelspec": {
      "name": "python3",
      "display_name": "Python 3"
    },
    "language_info": {
      "name": "python"
    }
  },
  "cells": [
    {
      "cell_type": "code",
      "execution_count": 2,
      "metadata": {
        "colab": {
          "base_uri": "https://localhost:8080/"
        },
        "id": "YSolhHhHZi-M",
        "outputId": "1c8ed0f0-76bc-44c9-9c7b-3814cbfed76a"
      },
      "outputs": [
        {
          "output_type": "stream",
          "name": "stdout",
          "text": [
            "Input_Sample.pdf  sample_data\n"
          ]
        }
      ],
      "source": [
        "!ls"
      ]
    },
    {
      "cell_type": "code",
      "source": [
        "!pip install pdfplumber"
      ],
      "metadata": {
        "colab": {
          "base_uri": "https://localhost:8080/"
        },
        "id": "i275VTjpaeRo",
        "outputId": "0c754786-35c3-4995-e1e4-f2553d1c75f1"
      },
      "execution_count": 4,
      "outputs": [
        {
          "output_type": "stream",
          "name": "stdout",
          "text": [
            "Collecting pdfplumber\n",
            "  Downloading pdfplumber-0.11.7-py3-none-any.whl.metadata (42 kB)\n",
            "\u001b[?25l     \u001b[90m━━━━━━━━━━━━━━━━━━━━━━━━━━━━━━━━━━━━━━━━\u001b[0m \u001b[32m0.0/42.8 kB\u001b[0m \u001b[31m?\u001b[0m eta \u001b[36m-:--:--\u001b[0m\r\u001b[2K     \u001b[90m━━━━━━━━━━━━━━━━━━━━━━━━━━━━━━━━━━━━━━━━\u001b[0m \u001b[32m42.8/42.8 kB\u001b[0m \u001b[31m1.6 MB/s\u001b[0m eta \u001b[36m0:00:00\u001b[0m\n",
            "\u001b[?25hCollecting pdfminer.six==20250506 (from pdfplumber)\n",
            "  Downloading pdfminer_six-20250506-py3-none-any.whl.metadata (4.2 kB)\n",
            "Requirement already satisfied: Pillow>=9.1 in /usr/local/lib/python3.12/dist-packages (from pdfplumber) (11.3.0)\n",
            "Collecting pypdfium2>=4.18.0 (from pdfplumber)\n",
            "  Downloading pypdfium2-4.30.0-py3-none-manylinux_2_17_x86_64.manylinux2014_x86_64.whl.metadata (48 kB)\n",
            "\u001b[2K     \u001b[90m━━━━━━━━━━━━━━━━━━━━━━━━━━━━━━━━━━━━━━━━\u001b[0m \u001b[32m48.5/48.5 kB\u001b[0m \u001b[31m3.3 MB/s\u001b[0m eta \u001b[36m0:00:00\u001b[0m\n",
            "\u001b[?25hRequirement already satisfied: charset-normalizer>=2.0.0 in /usr/local/lib/python3.12/dist-packages (from pdfminer.six==20250506->pdfplumber) (3.4.3)\n",
            "Requirement already satisfied: cryptography>=36.0.0 in /usr/local/lib/python3.12/dist-packages (from pdfminer.six==20250506->pdfplumber) (43.0.3)\n",
            "Requirement already satisfied: cffi>=1.12 in /usr/local/lib/python3.12/dist-packages (from cryptography>=36.0.0->pdfminer.six==20250506->pdfplumber) (2.0.0)\n",
            "Requirement already satisfied: pycparser in /usr/local/lib/python3.12/dist-packages (from cffi>=1.12->cryptography>=36.0.0->pdfminer.six==20250506->pdfplumber) (2.23)\n",
            "Downloading pdfplumber-0.11.7-py3-none-any.whl (60 kB)\n",
            "\u001b[2K   \u001b[90m━━━━━━━━━━━━━━━━━━━━━━━━━━━━━━━━━━━━━━━━\u001b[0m \u001b[32m60.0/60.0 kB\u001b[0m \u001b[31m4.4 MB/s\u001b[0m eta \u001b[36m0:00:00\u001b[0m\n",
            "\u001b[?25hDownloading pdfminer_six-20250506-py3-none-any.whl (5.6 MB)\n",
            "\u001b[2K   \u001b[90m━━━━━━━━━━━━━━━━━━━━━━━━━━━━━━━━━━━━━━━━\u001b[0m \u001b[32m5.6/5.6 MB\u001b[0m \u001b[31m57.0 MB/s\u001b[0m eta \u001b[36m0:00:00\u001b[0m\n",
            "\u001b[?25hDownloading pypdfium2-4.30.0-py3-none-manylinux_2_17_x86_64.manylinux2014_x86_64.whl (2.8 MB)\n",
            "\u001b[2K   \u001b[90m━━━━━━━━━━━━━━━━━━━━━━━━━━━━━━━━━━━━━━━━\u001b[0m \u001b[32m2.8/2.8 MB\u001b[0m \u001b[31m89.7 MB/s\u001b[0m eta \u001b[36m0:00:00\u001b[0m\n",
            "\u001b[?25hInstalling collected packages: pypdfium2, pdfminer.six, pdfplumber\n",
            "Successfully installed pdfminer.six-20250506 pdfplumber-0.11.7 pypdfium2-4.30.0\n"
          ]
        }
      ]
    },
    {
      "cell_type": "code",
      "source": [
        "import pdfplumber\n",
        "\n",
        "def extract_text_from_pdf(pdf_path):\n",
        "    \"\"\"\n",
        "    Extracts all text from a PDF file.\n",
        "    \"\"\"\n",
        "    text = \"\"\n",
        "    with pdfplumber.open(pdf_path) as pdf:\n",
        "        text += pdf.pages[0].extract_text()\n",
        "    return text"
      ],
      "metadata": {
        "id": "AFxjAEISaEDC"
      },
      "execution_count": 117,
      "outputs": []
    },
    {
      "cell_type": "code",
      "source": [
        "text = extract_text_from_pdf(\"/content/413075_PurchaseOrder_Supplier_20250911_115920.pdf\")\n",
        "\n",
        "text.split(\"Order No:\")[1].strip().split(\" \")[0].strip()\n",
        "text.split(\"Product Description:\")[1].strip().split(\"\\n\")[0].strip()\n",
        "text.split(\"Season:\")[1].strip().split(\"\\n\")[0].strip()\n",
        "text.split(\"Type of Construction:\")[1].strip().split(\"\\n\")[0].strip()\n",
        "int(text.split(\"No of Pieces:\")[1].strip().split(\"\\n\")[0].strip())\n",
        "text.split(\"Sales Mode:\")[1].strip().split(\"\\n\")[0].strip()\n",
        "\n",
        "text.split(\"Invoice Average Price Country\")[1].strip().split(\"By accepting and performing under this Order, the Supplier acknowledges:\")[0].strip().split(\"\\n\"), text.split(\"Time of Delivery Planning Markets Quantity % Total Qty\")[1].strip().split(\"Total:\")[0].strip().split(\"\\n\")"
      ],
      "metadata": {
        "colab": {
          "base_uri": "https://localhost:8080/"
        },
        "id": "pLi4oCLEgpZR",
        "outputId": "4178d9b9-b23a-4f68-93d2-f78485980952"
      },
      "execution_count": 120,
      "outputs": [
        {
          "output_type": "execute_result",
          "data": {
            "text/plain": [
              "(['1.59 USD CL, AU, ZA, PE, UY, BR'],\n",
              " ['20 Oct, 2025 BR (PM-BR) 312 4%',\n",
              "  '27 Oct, 2025 CL (PM-CL) 5 462 62%',\n",
              "  '03 Nov, 2025 UY (PM-UY) 210 2%',\n",
              "  '10 Nov, 2025 PE (PM-PE) 901 10%',\n",
              "  '24 Nov, 2025 AU (PM-AU) 1 000 11%',\n",
              "  '15 Dec, 2025 ZA (PM-ZA) 1 000 11%'])"
            ]
          },
          "metadata": {},
          "execution_count": 120
        }
      ]
    },
    {
      "cell_type": "code",
      "source": [
        "from datetime import datetime\n",
        "\n",
        "# The original date string\n",
        "date_string = \"30 Jun, 2025\"\n",
        "\n",
        "# 1. Parse the original string into a datetime object\n",
        "# '%d' for day, '%b' for abbreviated month name, '%Y' for year\n",
        "datetime_object = datetime.strptime(date_string, \"%d %b, %Y\")\n",
        "\n",
        "# 2. Format the datetime object into the new string format\n",
        "# '%Y' for year with century, '%m' for month as a zero-padded number, '%d' for day\n",
        "new_date_string = datetime_object.strftime(\"%Y-%m-%d\")\n",
        "\n",
        "print(new_date_string)"
      ],
      "metadata": {
        "colab": {
          "base_uri": "https://localhost:8080/"
        },
        "id": "76s_FOOcjmmS",
        "outputId": "ffa2bbef-5e85-45f8-97a0-5a31dd36df03"
      },
      "execution_count": 100,
      "outputs": [
        {
          "output_type": "stream",
          "name": "stdout",
          "text": [
            "2025-06-30\n"
          ]
        }
      ]
    }
  ]
}